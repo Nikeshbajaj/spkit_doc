{
 "cells": [
  {
   "cell_type": "code",
   "execution_count": 7,
   "id": "eeecedb6",
   "metadata": {
    "ExecuteTime": {
     "end_time": "2022-10-07T17:16:24.571164Z",
     "start_time": "2022-10-07T17:16:24.554198Z"
    }
   },
   "outputs": [],
   "source": [
    "import numpy as np\n",
    "import pandas as pd\n",
    "import matplotlib.pyplot as plt\n",
    "import spkit as sp\n",
    "import seaborn as sns\n",
    "from scipy import signal\n",
    "import sys, os, glob, pickle\n",
    "\n",
    "pathLib = \"../\"\n",
    "sys.path.append(os.path.abspath(pathLib))\n",
    "# from nikLib import processing as pl\n",
    "from nikLib import geometry as G\n",
    "# from nikLib import geomagic as GM\n",
    "#from nikLib import Viz"
   ]
  },
  {
   "cell_type": "code",
   "execution_count": 4,
   "id": "5d37ea5a",
   "metadata": {
    "ExecuteTime": {
     "end_time": "2022-10-07T17:15:21.459168Z",
     "start_time": "2022-10-07T17:15:21.444836Z"
    }
   },
   "outputs": [
    {
     "data": {
      "text/plain": [
       "'../../Results/acutus/PhaseMap/'"
      ]
     },
     "execution_count": 4,
     "metadata": {},
     "output_type": "execute_result"
    }
   ],
   "source": [
    "ppath = '../../Results/acutus/PhaseMap/'\n",
    "ppath"
   ]
  },
  {
   "cell_type": "code",
   "execution_count": 5,
   "id": "6810211a",
   "metadata": {
    "ExecuteTime": {
     "end_time": "2022-10-07T17:15:32.472941Z",
     "start_time": "2022-10-07T17:15:27.672738Z"
    }
   },
   "outputs": [
    {
     "data": {
      "text/plain": [
       "((16565, 3656), (16565, 3656), (3656, 3), (7274, 3))"
      ]
     },
     "execution_count": 5,
     "metadata": {},
     "output_type": "execute_result"
    }
   ],
   "source": [
    "data= pickle.load(open(ppath+'phasemap_ex1.pkl','rb'))\n",
    "XP = data['XfP']\n",
    "XR = data['XfR']\n",
    "V = data['V']\n",
    "F = data['F']\n",
    "del data\n",
    "XP.shape,XR.shape, V.shape, F.shape"
   ]
  },
  {
   "cell_type": "code",
   "execution_count": 8,
   "id": "b5bef7c3",
   "metadata": {
    "ExecuteTime": {
     "end_time": "2022-10-07T17:16:28.901315Z",
     "start_time": "2022-10-07T17:16:28.582197Z"
    }
   },
   "outputs": [
    {
     "name": "stdout",
     "output_type": "stream",
     "text": [
      "5.219851769812492e-07 0.9999996183442035\n"
     ]
    },
    {
     "data": {
      "application/vnd.jupyter.widget-view+json": {
       "model_id": "a6c41877ba7a483195f70de359fdb5cb",
       "version_major": 2,
       "version_minor": 0
      },
      "text/plain": [
       "VBox(children=(Figure(animation=100.0, camera=PerspectiveCamera(fov=45.0, position=(0.0, 0.0, 2.0), projection…"
      ]
     },
     "metadata": {},
     "output_type": "display_data"
    }
   ],
   "source": [
    "G.Live3DPlot_IPY(V,F,XP[0:5000:10],normalize=True,Xminmx =[-np.pi,np.pi],round_lv=1,interval=100,epi_cmap='jet')"
   ]
  },
  {
   "cell_type": "code",
   "execution_count": null,
   "id": "def902be",
   "metadata": {},
   "outputs": [],
   "source": []
  }
 ],
 "metadata": {
  "kernelspec": {
   "display_name": "Python 3 (ipykernel)",
   "language": "python",
   "name": "python3"
  },
  "language_info": {
   "codemirror_mode": {
    "name": "ipython",
    "version": 3
   },
   "file_extension": ".py",
   "mimetype": "text/x-python",
   "name": "python",
   "nbconvert_exporter": "python",
   "pygments_lexer": "ipython3",
   "version": "3.8.8"
  },
  "toc": {
   "base_numbering": 1,
   "nav_menu": {},
   "number_sections": true,
   "sideBar": true,
   "skip_h1_title": false,
   "title_cell": "Table of Contents",
   "title_sidebar": "Contents",
   "toc_cell": false,
   "toc_position": {},
   "toc_section_display": true,
   "toc_window_display": false
  }
 },
 "nbformat": 4,
 "nbformat_minor": 5
}
